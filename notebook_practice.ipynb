{
 "cells": [
  {
   "cell_type": "code",
   "execution_count": 3,
   "metadata": {},
   "outputs": [],
   "source": [
    "import abc\n",
    "\n",
    "class Zoo(object):\n",
    "\n",
    "    __metaclass__ = abc.ABCMeta\n",
    "\n",
    "    @abc.abstractmethod\n",
    "    def wakeUp(self):\n",
    "        pass\n",
    "    \n",
    "    @abc.abstractmethod\n",
    "    def makeNoise(self):\n",
    "        pass\n",
    "    \n",
    "    @abc.abstractmethod\n",
    "    def eat(self):\n",
    "        pass\n",
    "\n",
    "    \n",
    "    @abc.abstractmethod\n",
    "    def roam(self):\n",
    "        pass\n",
    "\n",
    "    \n",
    "    @abc.abstractmethod\n",
    "    def goToSleep(self):\n",
    "        pass"
   ]
  },
  {
   "cell_type": "code",
   "execution_count": 13,
   "metadata": {},
   "outputs": [],
   "source": [
    "# import zoo\n",
    "\n",
    "class Animal(Zoo):\n",
    "    \n",
    "    def __init__(self, name):\n",
    "        self.name = name\n",
    "    \n",
    "    def setName(self, name):\n",
    "        self.name = name\n",
    "        \n",
    "    def wakeUp(self):\n",
    "        print(self.name+ \" the \" + self.__class__.__name__+ \" wakes up\")\n",
    "        \n",
    "    def makeNoise(self):\n",
    "        print(self.name+ \" the \" + self.__class__.__name__+ \" makes noise\")\n",
    "        \n",
    "    def eat(self):\n",
    "        print(self.name+ \" the \" + self.__class__.__name__+ \" eats their food\")\n",
    "        \n",
    "    def roam(self):\n",
    "        print(self.name+ \" the \" + self.__class__.__name__+ \" roams\")\n",
    "        \n",
    "    def goToSleep(self):\n",
    "        print(self.name+ \" the \" + self.__class__.__name__+ \" goes to sleep\")"
   ]
  },
  {
   "cell_type": "code",
   "execution_count": 15,
   "metadata": {},
   "outputs": [
    {
     "name": "stdout",
     "output_type": "stream",
     "text": [
      "Joe the Animal wakes up\n",
      "Joe the Animal makes noise\n",
      "Joe the Animal eats their food\n",
      "Joe the Animal roams\n",
      "Joe the Animal goes to sleep\n"
     ]
    }
   ],
   "source": [
    "a = Animal(\"John\")\n",
    "\n",
    "a.setName(\"Joe\")\n",
    "\n",
    "a.wakeUp()\n",
    "\n",
    "a.makeNoise()\n",
    "\n",
    "a.eat()\n",
    "\n",
    "a.roam()\n",
    "\n",
    "a.goToSleep()"
   ]
  },
  {
   "cell_type": "code",
   "execution_count": 16,
   "metadata": {},
   "outputs": [],
   "source": [
    "# import zoo\n",
    "\n",
    "class Pachyderm(Animal):\n",
    "    \n",
    "    def roam(self):\n",
    "        print(self.name+ \" the \" + self.__class__.__name__+ \" roams around the dessert\")   "
   ]
  },
  {
   "cell_type": "code",
   "execution_count": 18,
   "metadata": {},
   "outputs": [
    {
     "name": "stdout",
     "output_type": "stream",
     "text": [
      "Paul the Pachyderm roams around the dessert\n"
     ]
    }
   ],
   "source": [
    "p = Pachyderm(\"Paul\")\n",
    "\n",
    "p.roam()"
   ]
  },
  {
   "cell_type": "code",
   "execution_count": 32,
   "metadata": {},
   "outputs": [],
   "source": [
    "# import zoo\n",
    "import numpy as np\n",
    "\n",
    "class Feline(Animal):\n",
    "    \n",
    "    def roam(self):\n",
    "        print(self.name+ \" the \" + self.__class__.__name__+ \" roams in the trees\")\n",
    "        \n",
    "    def eat(self):\n",
    "        n = np.random.randint(0, 3)\n",
    "        \n",
    "        if n == 0:\n",
    "            self.roam()\n",
    "        elif n == 1:\n",
    "            self.makeNoise()\n",
    "        else:\n",
    "            self.goToSleep()\n",
    "        "
   ]
  },
  {
   "cell_type": "code",
   "execution_count": 36,
   "metadata": {},
   "outputs": [
    {
     "name": "stdout",
     "output_type": "stream",
     "text": [
      "Frank the Feline roams in the trees\n",
      "Frank the Feline goes to sleep\n",
      "Frank the Feline makes noise\n"
     ]
    }
   ],
   "source": [
    "f = Feline(\"Frank\")\n",
    "\n",
    "f.roam()\n",
    "\n",
    "f.eat()\n",
    "f.eat()"
   ]
  },
  {
   "cell_type": "code",
   "execution_count": 37,
   "metadata": {},
   "outputs": [],
   "source": [
    "# import Zoo\n",
    "\n",
    "class Canine(Animal):\n",
    "    \n",
    "    def roam(self):\n",
    "        print(self.name+ \" the \" + self.__class__.__name__+ \" roams in the grass\")"
   ]
  },
  {
   "cell_type": "code",
   "execution_count": 38,
   "metadata": {},
   "outputs": [
    {
     "name": "stdout",
     "output_type": "stream",
     "text": [
      "Charles the Canine roams in the grass\n"
     ]
    }
   ],
   "source": [
    "c = Canine(\"Charles\")\n",
    "\n",
    "c.roam()"
   ]
  },
  {
   "cell_type": "code",
   "execution_count": 39,
   "metadata": {},
   "outputs": [],
   "source": [
    "class Hippo(Pachyderm):\n",
    "    \n",
    "    def makeNoise(self):\n",
    "        print(self.name+ \" the \" + self.__class__.__name__+ \" yawns\")"
   ]
  },
  {
   "cell_type": "code",
   "execution_count": 40,
   "metadata": {},
   "outputs": [
    {
     "name": "stdout",
     "output_type": "stream",
     "text": [
      "Hank the Hippo yawns\n"
     ]
    }
   ],
   "source": [
    "h = Hippo(\"Hank\")\n",
    "\n",
    "h.makeNoise()"
   ]
  },
  {
   "cell_type": "code",
   "execution_count": 41,
   "metadata": {},
   "outputs": [
    {
     "name": "stdout",
     "output_type": "stream",
     "text": [
      "Earl the Elephant waves trunk\n"
     ]
    }
   ],
   "source": [
    "class Elephant(Pachyderm):\n",
    "    \n",
    "    def makeNoise(self):\n",
    "        print(self.name+ \" the \" + self.__class__.__name__+ \" waves trunk\")\n",
    "        \n",
    "e = Elephant(\"Earl\")\n",
    "e.makeNoise()"
   ]
  },
  {
   "cell_type": "code",
   "execution_count": 42,
   "metadata": {},
   "outputs": [],
   "source": [
    "class Rhino(Pachyderm):\n",
    "    \n",
    "    def makeNoise(self):\n",
    "        print(self.name+ \" the \" + self.__class__.__name__+ \" snorts\")"
   ]
  },
  {
   "cell_type": "code",
   "execution_count": 43,
   "metadata": {},
   "outputs": [],
   "source": [
    "class Tiger(Feline):\n",
    "    \n",
    "    def makeNoise(self):\n",
    "        print(self.name+ \" the \" + self.__class__.__name__+ \" hisses\")"
   ]
  },
  {
   "cell_type": "code",
   "execution_count": 44,
   "metadata": {},
   "outputs": [],
   "source": [
    "class Lion(Feline):\n",
    "    \n",
    "    def makeNoise(self):\n",
    "        print(self.name+ \" the \" + self.__class__.__name__+ \" roars\")"
   ]
  },
  {
   "cell_type": "code",
   "execution_count": 45,
   "metadata": {},
   "outputs": [],
   "source": [
    "class Cat(Feline):\n",
    "    \n",
    "    def makeNoise(self):\n",
    "        print(self.name+ \" the \" + self.__class__.__name__+ \" meows\")"
   ]
  },
  {
   "cell_type": "code",
   "execution_count": 46,
   "metadata": {},
   "outputs": [],
   "source": [
    "class Wolf(Canine):\n",
    "    \n",
    "    def makeNoise(self):\n",
    "        print(self.name+ \" the \" + self.__class__.__name__+ \" howls\")"
   ]
  },
  {
   "cell_type": "code",
   "execution_count": 47,
   "metadata": {},
   "outputs": [],
   "source": [
    "class Dog(Canine):\n",
    "    \n",
    "    def makeNoise(self):\n",
    "        print(self.name+ \" the \" + self.__class__.__name__+ \" barks\")"
   ]
  },
  {
   "cell_type": "code",
   "execution_count": 48,
   "metadata": {},
   "outputs": [],
   "source": [
    "class Zookeeper:\n",
    "    \n",
    "    def wakeUpAnimals(self, animals):\n",
    "        print(\"Zookeeper wakes up animals:\")\n",
    "        for a in animals:\n",
    "            a.wakeUp()\n",
    "            \n",
    "    def rollCall(self, animals):\n",
    "        print(\"Zookeeper starts roll call of animals:\")\n",
    "        for a in animals:\n",
    "            a.makeNoise()\n",
    "            \n",
    "    def feed(self, animals):\n",
    "        print(\"Zookeeper feeds animals:\")\n",
    "        for a in animals:\n",
    "            a.eat()\n",
    "            \n",
    "    def exercise(self, animals):\n",
    "        print(\"Zookeeper exercises animals:\")\n",
    "        for a in animals:\n",
    "            a.roam()\n",
    "            \n",
    "    def shutDownZoo(self, animals):\n",
    "        print(\"Zookeeper shuts down zoo:\")\n",
    "        for a in animals:\n",
    "            a.goToSleep()"
   ]
  },
  {
   "cell_type": "code",
   "execution_count": 49,
   "metadata": {},
   "outputs": [],
   "source": [
    "z = Zookeeper()"
   ]
  },
  {
   "cell_type": "code",
   "execution_count": null,
   "metadata": {},
   "outputs": [],
   "source": [
    "z."
   ]
  }
 ],
 "metadata": {
  "kernelspec": {
   "display_name": "Python 3",
   "language": "python",
   "name": "python3"
  },
  "language_info": {
   "codemirror_mode": {
    "name": "ipython",
    "version": 3
   },
   "file_extension": ".py",
   "mimetype": "text/x-python",
   "name": "python",
   "nbconvert_exporter": "python",
   "pygments_lexer": "ipython3",
   "version": "3.7.4"
  }
 },
 "nbformat": 4,
 "nbformat_minor": 2
}
